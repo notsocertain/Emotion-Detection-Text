{
 "cells": [
  {
   "cell_type": "code",
   "execution_count": 1,
   "id": "adf4d6f2",
   "metadata": {},
   "outputs": [],
   "source": [
    "import pandas as pd\n",
    "import numpy as np"
   ]
  },
  {
   "cell_type": "code",
   "execution_count": 2,
   "id": "8dbac93b",
   "metadata": {},
   "outputs": [],
   "source": [
    "df = pd.read_csv('final-after-preprocessing/after-preprocessing.csv')"
   ]
  },
  {
   "cell_type": "code",
   "execution_count": 3,
   "id": "9e21cfc3",
   "metadata": {},
   "outputs": [
    {
     "data": {
      "text/html": [
       "<div>\n",
       "<style scoped>\n",
       "    .dataframe tbody tr th:only-of-type {\n",
       "        vertical-align: middle;\n",
       "    }\n",
       "\n",
       "    .dataframe tbody tr th {\n",
       "        vertical-align: top;\n",
       "    }\n",
       "\n",
       "    .dataframe thead th {\n",
       "        text-align: right;\n",
       "    }\n",
       "</style>\n",
       "<table border=\"1\" class=\"dataframe\">\n",
       "  <thead>\n",
       "    <tr style=\"text-align: right;\">\n",
       "      <th></th>\n",
       "      <th>Unnamed: 0</th>\n",
       "      <th>text</th>\n",
       "      <th>emotion</th>\n",
       "      <th>preprocessed_text</th>\n",
       "    </tr>\n",
       "  </thead>\n",
       "  <tbody>\n",
       "    <tr>\n",
       "      <th>0</th>\n",
       "      <td>0</td>\n",
       "      <td>i didnt feel humiliated</td>\n",
       "      <td>sadness</td>\n",
       "      <td>feel humiliated</td>\n",
       "    </tr>\n",
       "    <tr>\n",
       "      <th>1</th>\n",
       "      <td>1</td>\n",
       "      <td>i can go from feeling so hopeless to so damned...</td>\n",
       "      <td>sadness</td>\n",
       "      <td>go feeling hopeless damned hopeful around some...</td>\n",
       "    </tr>\n",
       "    <tr>\n",
       "      <th>2</th>\n",
       "      <td>2</td>\n",
       "      <td>im grabbing a minute to post i feel greedy wrong</td>\n",
       "      <td>anger</td>\n",
       "      <td>grabbing minute post feel greedy wrong</td>\n",
       "    </tr>\n",
       "    <tr>\n",
       "      <th>3</th>\n",
       "      <td>3</td>\n",
       "      <td>i am feeling grouchy</td>\n",
       "      <td>anger</td>\n",
       "      <td>feeling grouchy</td>\n",
       "    </tr>\n",
       "    <tr>\n",
       "      <th>4</th>\n",
       "      <td>4</td>\n",
       "      <td>ive been feeling a little burdened lately wasn...</td>\n",
       "      <td>sadness</td>\n",
       "      <td>feeling little burdened lately sure</td>\n",
       "    </tr>\n",
       "    <tr>\n",
       "      <th>...</th>\n",
       "      <td>...</td>\n",
       "      <td>...</td>\n",
       "      <td>...</td>\n",
       "      <td>...</td>\n",
       "    </tr>\n",
       "    <tr>\n",
       "      <th>23649</th>\n",
       "      <td>23649</td>\n",
       "      <td>I received a letter from a distant friend.</td>\n",
       "      <td>joy</td>\n",
       "      <td>received letter distant friend</td>\n",
       "    </tr>\n",
       "    <tr>\n",
       "      <th>23650</th>\n",
       "      <td>23650</td>\n",
       "      <td>My parents were out and I was the eldest at ho...</td>\n",
       "      <td>fear</td>\n",
       "      <td>parent eldest home midnight male stranger phon...</td>\n",
       "    </tr>\n",
       "    <tr>\n",
       "      <th>23651</th>\n",
       "      <td>23651</td>\n",
       "      <td>Two years back someone invited me to be the tu...</td>\n",
       "      <td>anger</td>\n",
       "      <td>two year back someone invited tutor granddaugh...</td>\n",
       "    </tr>\n",
       "    <tr>\n",
       "      <th>23652</th>\n",
       "      <td>23652</td>\n",
       "      <td>I had taken the responsibility to do something...</td>\n",
       "      <td>sadness</td>\n",
       "      <td>taken responsibility something prepared howeve...</td>\n",
       "    </tr>\n",
       "    <tr>\n",
       "      <th>23653</th>\n",
       "      <td>23653</td>\n",
       "      <td>I was at home and I heard a loud sound of spit...</td>\n",
       "      <td>disgust</td>\n",
       "      <td>home heard loud sound spitting outside door th...</td>\n",
       "    </tr>\n",
       "  </tbody>\n",
       "</table>\n",
       "<p>23654 rows × 4 columns</p>\n",
       "</div>"
      ],
      "text/plain": [
       "       Unnamed: 0                                               text  emotion  \\\n",
       "0               0                            i didnt feel humiliated  sadness   \n",
       "1               1  i can go from feeling so hopeless to so damned...  sadness   \n",
       "2               2   im grabbing a minute to post i feel greedy wrong    anger   \n",
       "3               3                               i am feeling grouchy    anger   \n",
       "4               4  ive been feeling a little burdened lately wasn...  sadness   \n",
       "...           ...                                                ...      ...   \n",
       "23649       23649         I received a letter from a distant friend.      joy   \n",
       "23650       23650  My parents were out and I was the eldest at ho...     fear   \n",
       "23651       23651  Two years back someone invited me to be the tu...    anger   \n",
       "23652       23652  I had taken the responsibility to do something...  sadness   \n",
       "23653       23653  I was at home and I heard a loud sound of spit...  disgust   \n",
       "\n",
       "                                       preprocessed_text  \n",
       "0                                        feel humiliated  \n",
       "1      go feeling hopeless damned hopeful around some...  \n",
       "2                 grabbing minute post feel greedy wrong  \n",
       "3                                        feeling grouchy  \n",
       "4                    feeling little burdened lately sure  \n",
       "...                                                  ...  \n",
       "23649                     received letter distant friend  \n",
       "23650  parent eldest home midnight male stranger phon...  \n",
       "23651  two year back someone invited tutor granddaugh...  \n",
       "23652  taken responsibility something prepared howeve...  \n",
       "23653  home heard loud sound spitting outside door th...  \n",
       "\n",
       "[23654 rows x 4 columns]"
      ]
     },
     "execution_count": 3,
     "metadata": {},
     "output_type": "execute_result"
    }
   ],
   "source": [
    "df"
   ]
  },
  {
   "cell_type": "code",
   "execution_count": 4,
   "id": "95d09415",
   "metadata": {},
   "outputs": [],
   "source": [
    "df= df[[\"preprocessed_text\", \"emotion\"]]"
   ]
  },
  {
   "cell_type": "code",
   "execution_count": 5,
   "id": "4c547dd0",
   "metadata": {},
   "outputs": [
    {
     "data": {
      "text/html": [
       "<div>\n",
       "<style scoped>\n",
       "    .dataframe tbody tr th:only-of-type {\n",
       "        vertical-align: middle;\n",
       "    }\n",
       "\n",
       "    .dataframe tbody tr th {\n",
       "        vertical-align: top;\n",
       "    }\n",
       "\n",
       "    .dataframe thead th {\n",
       "        text-align: right;\n",
       "    }\n",
       "</style>\n",
       "<table border=\"1\" class=\"dataframe\">\n",
       "  <thead>\n",
       "    <tr style=\"text-align: right;\">\n",
       "      <th></th>\n",
       "      <th>preprocessed_text</th>\n",
       "      <th>emotion</th>\n",
       "    </tr>\n",
       "  </thead>\n",
       "  <tbody>\n",
       "    <tr>\n",
       "      <th>0</th>\n",
       "      <td>feel humiliated</td>\n",
       "      <td>sadness</td>\n",
       "    </tr>\n",
       "    <tr>\n",
       "      <th>1</th>\n",
       "      <td>go feeling hopeless damned hopeful around some...</td>\n",
       "      <td>sadness</td>\n",
       "    </tr>\n",
       "    <tr>\n",
       "      <th>2</th>\n",
       "      <td>grabbing minute post feel greedy wrong</td>\n",
       "      <td>anger</td>\n",
       "    </tr>\n",
       "    <tr>\n",
       "      <th>3</th>\n",
       "      <td>feeling grouchy</td>\n",
       "      <td>anger</td>\n",
       "    </tr>\n",
       "    <tr>\n",
       "      <th>4</th>\n",
       "      <td>feeling little burdened lately sure</td>\n",
       "      <td>sadness</td>\n",
       "    </tr>\n",
       "    <tr>\n",
       "      <th>...</th>\n",
       "      <td>...</td>\n",
       "      <td>...</td>\n",
       "    </tr>\n",
       "    <tr>\n",
       "      <th>23649</th>\n",
       "      <td>received letter distant friend</td>\n",
       "      <td>joy</td>\n",
       "    </tr>\n",
       "    <tr>\n",
       "      <th>23650</th>\n",
       "      <td>parent eldest home midnight male stranger phon...</td>\n",
       "      <td>fear</td>\n",
       "    </tr>\n",
       "    <tr>\n",
       "      <th>23651</th>\n",
       "      <td>two year back someone invited tutor granddaugh...</td>\n",
       "      <td>anger</td>\n",
       "    </tr>\n",
       "    <tr>\n",
       "      <th>23652</th>\n",
       "      <td>taken responsibility something prepared howeve...</td>\n",
       "      <td>sadness</td>\n",
       "    </tr>\n",
       "    <tr>\n",
       "      <th>23653</th>\n",
       "      <td>home heard loud sound spitting outside door th...</td>\n",
       "      <td>disgust</td>\n",
       "    </tr>\n",
       "  </tbody>\n",
       "</table>\n",
       "<p>23654 rows × 2 columns</p>\n",
       "</div>"
      ],
      "text/plain": [
       "                                       preprocessed_text  emotion\n",
       "0                                        feel humiliated  sadness\n",
       "1      go feeling hopeless damned hopeful around some...  sadness\n",
       "2                 grabbing minute post feel greedy wrong    anger\n",
       "3                                        feeling grouchy    anger\n",
       "4                    feeling little burdened lately sure  sadness\n",
       "...                                                  ...      ...\n",
       "23649                     received letter distant friend      joy\n",
       "23650  parent eldest home midnight male stranger phon...     fear\n",
       "23651  two year back someone invited tutor granddaugh...    anger\n",
       "23652  taken responsibility something prepared howeve...  sadness\n",
       "23653  home heard loud sound spitting outside door th...  disgust\n",
       "\n",
       "[23654 rows x 2 columns]"
      ]
     },
     "execution_count": 5,
     "metadata": {},
     "output_type": "execute_result"
    }
   ],
   "source": [
    "df"
   ]
  },
  {
   "cell_type": "code",
   "execution_count": 6,
   "id": "628adcd7",
   "metadata": {},
   "outputs": [],
   "source": [
    "from sklearn.model_selection import train_test_split\n",
    "from sklearn.preprocessing import LabelEncoder\n",
    "from sklearn.feature_extraction.text import TfidfVectorizer"
   ]
  },
  {
   "cell_type": "markdown",
   "id": "e4786578",
   "metadata": {},
   "source": [
    "# Train-Test split 80-20"
   ]
  },
  {
   "cell_type": "code",
   "execution_count": 7,
   "id": "64520930",
   "metadata": {},
   "outputs": [],
   "source": [
    "# train test split\n",
    "x_train,x_test,y_train,y_test = train_test_split(df.preprocessed_text.values, df.emotion.values, test_size = 0.2, random_state=42)\n"
   ]
  },
  {
   "cell_type": "code",
   "execution_count": 8,
   "id": "54f96566",
   "metadata": {},
   "outputs": [
    {
     "data": {
      "text/plain": [
       "((18923,), (18923,), (4731,), (4731,))"
      ]
     },
     "execution_count": 8,
     "metadata": {},
     "output_type": "execute_result"
    }
   ],
   "source": [
    "\n",
    "x_train.shape,y_train.shape,x_test.shape,y_test.shape"
   ]
  },
  {
   "cell_type": "code",
   "execution_count": 9,
   "id": "ac6c17a3",
   "metadata": {},
   "outputs": [],
   "source": [
    "tfidf = TfidfVectorizer()\n",
    "tfidf.fit(x_train)\n",
    "X_train = tfidf.transform(x_train)\n",
    "X_test = tfidf.transform(x_test)\n"
   ]
  },
  {
   "cell_type": "code",
   "execution_count": 10,
   "id": "c00a68b7",
   "metadata": {},
   "outputs": [
    {
     "data": {
      "text/plain": [
       "<18923x12563 sparse matrix of type '<class 'numpy.float64'>'\n",
       "\twith 166464 stored elements in Compressed Sparse Row format>"
      ]
     },
     "execution_count": 10,
     "metadata": {},
     "output_type": "execute_result"
    }
   ],
   "source": [
    "X_train"
   ]
  },
  {
   "cell_type": "code",
   "execution_count": 11,
   "id": "0b59a08b",
   "metadata": {},
   "outputs": [
    {
     "data": {
      "text/plain": [
       "<4731x12563 sparse matrix of type '<class 'numpy.float64'>'\n",
       "\twith 40284 stored elements in Compressed Sparse Row format>"
      ]
     },
     "execution_count": 11,
     "metadata": {},
     "output_type": "execute_result"
    }
   ],
   "source": [
    "X_test"
   ]
  },
  {
   "cell_type": "markdown",
   "id": "866ed56e",
   "metadata": {},
   "source": [
    "# Label encoding "
   ]
  },
  {
   "cell_type": "code",
   "execution_count": 12,
   "id": "ee4f41fd",
   "metadata": {},
   "outputs": [],
   "source": [
    "enc = LabelEncoder()\n",
    "enc.fit(y_train)\n",
    "Y_train = enc.transform(y_train)\n",
    "Y_test = enc.transform(y_test)"
   ]
  },
  {
   "cell_type": "code",
   "execution_count": 13,
   "id": "a42a7681",
   "metadata": {},
   "outputs": [
    {
     "data": {
      "text/plain": [
       "array(['anger', 'disgust', 'fear', 'joy', 'sadness', 'surprise'],\n",
       "      dtype=object)"
      ]
     },
     "execution_count": 13,
     "metadata": {},
     "output_type": "execute_result"
    }
   ],
   "source": [
    "labels = enc.classes_\n",
    "labels\n"
   ]
  },
  {
   "cell_type": "code",
   "execution_count": 14,
   "id": "c748c8eb",
   "metadata": {},
   "outputs": [
    {
     "data": {
      "text/plain": [
       "array([3, 4, 3, ..., 0, 3, 3])"
      ]
     },
     "execution_count": 14,
     "metadata": {},
     "output_type": "execute_result"
    }
   ],
   "source": [
    "Y_test"
   ]
  },
  {
   "cell_type": "markdown",
   "id": "281217fb",
   "metadata": {},
   "source": [
    "# Machine Learning Algorithms"
   ]
  },
  {
   "cell_type": "code",
   "execution_count": 15,
   "id": "e4c5410c",
   "metadata": {},
   "outputs": [
    {
     "data": {
      "text/plain": [
       "(4731,)"
      ]
     },
     "execution_count": 15,
     "metadata": {},
     "output_type": "execute_result"
    }
   ],
   "source": [
    "Y_test.shape"
   ]
  },
  {
   "cell_type": "code",
   "execution_count": 16,
   "id": "c72a6376",
   "metadata": {},
   "outputs": [
    {
     "data": {
      "text/plain": [
       "(18923,)"
      ]
     },
     "execution_count": 16,
     "metadata": {},
     "output_type": "execute_result"
    }
   ],
   "source": [
    "Y_train.shape"
   ]
  },
  {
   "cell_type": "code",
   "execution_count": 17,
   "id": "4a854bad",
   "metadata": {},
   "outputs": [],
   "source": [
    "from sklearn.naive_bayes import MultinomialNB\n",
    "from sklearn.linear_model import LogisticRegression\n",
    "from sklearn.svm import LinearSVC, SVC\n",
    "from sklearn.neighbors import KNeighborsClassifier\n",
    "from sklearn.tree import DecisionTreeClassifier\n",
    "from sklearn.ensemble import StackingClassifier\n",
    "from sklearn.pipeline import Pipeline"
   ]
  },
  {
   "cell_type": "code",
   "execution_count": 18,
   "id": "800d9927",
   "metadata": {},
   "outputs": [],
   "source": [
    "result = {}"
   ]
  },
  {
   "cell_type": "markdown",
   "id": "3f75fb2e",
   "metadata": {},
   "source": [
    "## Logistic Regression"
   ]
  },
  {
   "cell_type": "code",
   "execution_count": 19,
   "id": "a30c7562",
   "metadata": {},
   "outputs": [
    {
     "name": "stdout",
     "output_type": "stream",
     "text": [
      "0.8425280067638977\n"
     ]
    }
   ],
   "source": [
    "# Instantiate logistic regression model\n",
    "log = LogisticRegression()\n",
    "\n",
    "# Fit the model\n",
    "log.fit(X_train, Y_train)  # Assuming X_train and Y_train are the training data\n",
    "\n",
    "# Evaluate the model\n",
    "log_score = log.score(X_test, Y_test)  # Assuming X_test and Y_test are the test data\n",
    "\n",
    "# Update the result dictionary\n",
    "result['Logistic Regression'] = log_score\n",
    "\n",
    "# Print the score\n",
    "print(log_score)"
   ]
  },
  {
   "cell_type": "markdown",
   "id": "ca209acc",
   "metadata": {},
   "source": [
    "# Multinomial NB"
   ]
  },
  {
   "cell_type": "code",
   "execution_count": 20,
   "id": "dab69e17",
   "metadata": {},
   "outputs": [
    {
     "name": "stdout",
     "output_type": "stream",
     "text": [
      "0.7178186429930248\n"
     ]
    }
   ],
   "source": [
    "nb = MultinomialNB()\n",
    "nb.fit(X_train,Y_train)\n",
    "nb_score = nb.score(X_test,Y_test)\n",
    "result['Naive Bayes']=nb_score\n",
    "print(nb_score)"
   ]
  },
  {
   "cell_type": "markdown",
   "id": "856ca5a9",
   "metadata": {},
   "source": [
    "# SVM"
   ]
  },
  {
   "cell_type": "code",
   "execution_count": 21,
   "id": "454961c1",
   "metadata": {},
   "outputs": [
    {
     "name": "stdout",
     "output_type": "stream",
     "text": [
      "0.8437962375819066\n"
     ]
    }
   ],
   "source": [
    "svm = SVC()\n",
    "svm.fit(X_train,Y_train)\n",
    "svm_score = svm.score(X_test,Y_test)\n",
    "result['SVM']=svm_score\n",
    "print(svm_score)"
   ]
  },
  {
   "cell_type": "markdown",
   "id": "5a614603",
   "metadata": {},
   "source": [
    "# K-means Clustering"
   ]
  },
  {
   "cell_type": "code",
   "execution_count": 22,
   "id": "00d4641b",
   "metadata": {},
   "outputs": [
    {
     "name": "stdout",
     "output_type": "stream",
     "text": [
      "0.766856901289368\n"
     ]
    }
   ],
   "source": [
    "knn = KNeighborsClassifier(n_neighbors=7)\n",
    "knn.fit(X_train,Y_train)\n",
    "knn_score = knn.score(X_test,Y_test)\n",
    "result['K means Clustering']=knn_score\n",
    "print(knn_score)"
   ]
  },
  {
   "cell_type": "markdown",
   "id": "dfc451eb",
   "metadata": {},
   "source": [
    "# Decision Tree"
   ]
  },
  {
   "cell_type": "code",
   "execution_count": 23,
   "id": "ee1e98fa",
   "metadata": {},
   "outputs": [
    {
     "name": "stdout",
     "output_type": "stream",
     "text": [
      "0.8258296343267808\n"
     ]
    }
   ],
   "source": [
    "dt = DecisionTreeClassifier()\n",
    "dt.fit(X_train,Y_train)\n",
    "dt_score = dt.score(X_test,Y_test)\n",
    "result['Decision Tree']=dt_score\n",
    "print(dt_score)"
   ]
  },
  {
   "cell_type": "code",
   "execution_count": 24,
   "id": "d561eda3",
   "metadata": {},
   "outputs": [
    {
     "data": {
      "text/html": [
       "<style type=\"text/css\">\n",
       "#T_25ada_row1_col1 {\n",
       "  background-color: pink;\n",
       "}\n",
       "#T_25ada_row2_col1 {\n",
       "  background-color: lightgreen;\n",
       "}\n",
       "</style>\n",
       "<table id=\"T_25ada\">\n",
       "  <thead>\n",
       "    <tr>\n",
       "      <th class=\"blank level0\" >&nbsp;</th>\n",
       "      <th id=\"T_25ada_level0_col0\" class=\"col_heading level0 col0\" >Model</th>\n",
       "      <th id=\"T_25ada_level0_col1\" class=\"col_heading level0 col1\" >Test Score</th>\n",
       "    </tr>\n",
       "  </thead>\n",
       "  <tbody>\n",
       "    <tr>\n",
       "      <th id=\"T_25ada_level0_row0\" class=\"row_heading level0 row0\" >0</th>\n",
       "      <td id=\"T_25ada_row0_col0\" class=\"data row0 col0\" >Logistic Regression</td>\n",
       "      <td id=\"T_25ada_row0_col1\" class=\"data row0 col1\" >0.842528</td>\n",
       "    </tr>\n",
       "    <tr>\n",
       "      <th id=\"T_25ada_level0_row1\" class=\"row_heading level0 row1\" >1</th>\n",
       "      <td id=\"T_25ada_row1_col0\" class=\"data row1 col0\" >Naive Bayes</td>\n",
       "      <td id=\"T_25ada_row1_col1\" class=\"data row1 col1\" >0.717819</td>\n",
       "    </tr>\n",
       "    <tr>\n",
       "      <th id=\"T_25ada_level0_row2\" class=\"row_heading level0 row2\" >2</th>\n",
       "      <td id=\"T_25ada_row2_col0\" class=\"data row2 col0\" >SVM</td>\n",
       "      <td id=\"T_25ada_row2_col1\" class=\"data row2 col1\" >0.843796</td>\n",
       "    </tr>\n",
       "    <tr>\n",
       "      <th id=\"T_25ada_level0_row3\" class=\"row_heading level0 row3\" >3</th>\n",
       "      <td id=\"T_25ada_row3_col0\" class=\"data row3 col0\" >K means Clustering</td>\n",
       "      <td id=\"T_25ada_row3_col1\" class=\"data row3 col1\" >0.766857</td>\n",
       "    </tr>\n",
       "    <tr>\n",
       "      <th id=\"T_25ada_level0_row4\" class=\"row_heading level0 row4\" >4</th>\n",
       "      <td id=\"T_25ada_row4_col0\" class=\"data row4 col0\" >Decision Tree</td>\n",
       "      <td id=\"T_25ada_row4_col1\" class=\"data row4 col1\" >0.825830</td>\n",
       "    </tr>\n",
       "  </tbody>\n",
       "</table>\n"
      ],
      "text/plain": [
       "<pandas.io.formats.style.Styler at 0x14c6aa460>"
      ]
     },
     "metadata": {},
     "output_type": "display_data"
    }
   ],
   "source": [
    "# display results\n",
    "result_df = []\n",
    "for model,score in result.items():\n",
    "    result_df.append([model,score])\n",
    "    \n",
    "result_df = pd.DataFrame(result_df, columns=['Model','Test Score'])\n",
    "result_df = result_df.style\n",
    "result_df = result_df.highlight_max(subset=['Test Score'], color = 'lightgreen')\n",
    "result_df = result_df.highlight_min(subset=['Test Score'], color = 'pink')\n",
    "display(result_df)"
   ]
  },
  {
   "cell_type": "markdown",
   "id": "5f40fa98",
   "metadata": {},
   "source": [
    "# Parameter tuning for each"
   ]
  },
  {
   "cell_type": "markdown",
   "id": "c14eb969",
   "metadata": {},
   "source": [
    "# Logistic Regression"
   ]
  },
  {
   "cell_type": "code",
   "execution_count": null,
   "id": "0bf98689",
   "metadata": {},
   "outputs": [],
   "source": [
    "# Hyper parameter tuning and cross validation for the Logistic Regression model\n",
    "\n",
    "from sklearn.model_selection import GridSearchCV\n",
    "\n",
    "grid = GridSearchCV(LogisticRegression(max_iter=1000), {\n",
    "    'C': [0.1, 1, 10, 100],\n",
    "    'penalty': ['l1', 'l2'],\n",
    "    'solver': ['lbfgs', 'liblinear', 'newton-cg', 'newton-cholesky'] \n",
    "}, cv=5, return_train_score=False)\n",
    "\n",
    "grid.fit(X_train,Y_train)\n",
    "grid = pd.DataFrame(grid.cv_results_).sort_values(by='rank_test_score', ascending=True)\n",
    "grid[['param_C', 'param_penalty', 'param_solver', 'mean_test_score', 'rank_test_score']].tail(20)"
   ]
  },
  {
   "cell_type": "code",
   "execution_count": null,
   "id": "aebb7fcf",
   "metadata": {},
   "outputs": [],
   "source": []
  }
 ],
 "metadata": {
  "kernelspec": {
   "display_name": "Python 3 (ipykernel)",
   "language": "python",
   "name": "python3"
  },
  "language_info": {
   "codemirror_mode": {
    "name": "ipython",
    "version": 3
   },
   "file_extension": ".py",
   "mimetype": "text/x-python",
   "name": "python",
   "nbconvert_exporter": "python",
   "pygments_lexer": "ipython3",
   "version": "3.9.18"
  }
 },
 "nbformat": 4,
 "nbformat_minor": 5
}
