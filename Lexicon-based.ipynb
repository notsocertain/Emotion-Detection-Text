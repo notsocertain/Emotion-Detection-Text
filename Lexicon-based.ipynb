{
 "cells": [
  {
   "cell_type": "code",
   "execution_count": 1,
   "id": "25181efc",
   "metadata": {},
   "outputs": [
    {
     "name": "stdout",
     "output_type": "stream",
     "text": [
      "Dataset-for-model-training.csv\r\n",
      "Lexicon-based.ipynb\r\n",
      "README.md\r\n",
      "combining-dataset.ipynb\r\n",
      "\u001b[34mdataset-1\u001b[m\u001b[m/\r\n",
      "\u001b[34mdataset-2\u001b[m\u001b[m/\r\n",
      "\u001b[34mfinal-after-preprocessing\u001b[m\u001b[m/\r\n",
      "final-dataset-after-removing-duplicates.csv\r\n",
      "final-dataset.csv\r\n",
      "removing duplicates and same text with different emotions.ipynb\r\n",
      "removing-emotions-not-present-in-NRCLex.ipynb\r\n"
     ]
    }
   ],
   "source": [
    "ls"
   ]
  },
  {
   "cell_type": "code",
   "execution_count": 2,
   "id": "b07d4bb5",
   "metadata": {},
   "outputs": [],
   "source": [
    "import pandas as pd\n",
    "import numpy as np"
   ]
  },
  {
   "cell_type": "code",
   "execution_count": 3,
   "id": "3d31a2cf",
   "metadata": {},
   "outputs": [],
   "source": [
    "df = pd.read_csv('final-after-preprocessing/NRCLex/NRCLex.csv')"
   ]
  },
  {
   "cell_type": "code",
   "execution_count": 4,
   "id": "4ff3f642",
   "metadata": {},
   "outputs": [
    {
     "data": {
      "text/html": [
       "<div>\n",
       "<style scoped>\n",
       "    .dataframe tbody tr th:only-of-type {\n",
       "        vertical-align: middle;\n",
       "    }\n",
       "\n",
       "    .dataframe tbody tr th {\n",
       "        vertical-align: top;\n",
       "    }\n",
       "\n",
       "    .dataframe thead th {\n",
       "        text-align: right;\n",
       "    }\n",
       "</style>\n",
       "<table border=\"1\" class=\"dataframe\">\n",
       "  <thead>\n",
       "    <tr style=\"text-align: right;\">\n",
       "      <th></th>\n",
       "      <th>Unnamed: 0</th>\n",
       "      <th>text</th>\n",
       "      <th>emotion</th>\n",
       "      <th>preprocessed_text</th>\n",
       "      <th>classified_emotion</th>\n",
       "    </tr>\n",
       "  </thead>\n",
       "  <tbody>\n",
       "    <tr>\n",
       "      <th>0</th>\n",
       "      <td>0</td>\n",
       "      <td>i didnt feel humiliated</td>\n",
       "      <td>sadness</td>\n",
       "      <td>feel humiliated</td>\n",
       "      <td>fear</td>\n",
       "    </tr>\n",
       "    <tr>\n",
       "      <th>1</th>\n",
       "      <td>1</td>\n",
       "      <td>i can go from feeling so hopeless to so damned...</td>\n",
       "      <td>sadness</td>\n",
       "      <td>go feeling hopeless damned hopeful around some...</td>\n",
       "      <td>fear</td>\n",
       "    </tr>\n",
       "    <tr>\n",
       "      <th>2</th>\n",
       "      <td>2</td>\n",
       "      <td>im grabbing a minute to post i feel greedy wrong</td>\n",
       "      <td>anger</td>\n",
       "      <td>grabbing minute post feel greedy wrong</td>\n",
       "      <td>disgust</td>\n",
       "    </tr>\n",
       "    <tr>\n",
       "      <th>3</th>\n",
       "      <td>3</td>\n",
       "      <td>i am feeling grouchy</td>\n",
       "      <td>anger</td>\n",
       "      <td>feeling grouchy</td>\n",
       "      <td>fear</td>\n",
       "    </tr>\n",
       "    <tr>\n",
       "      <th>4</th>\n",
       "      <td>4</td>\n",
       "      <td>ive been feeling a little burdened lately wasn...</td>\n",
       "      <td>sadness</td>\n",
       "      <td>feeling little burdened lately sure</td>\n",
       "      <td>fear</td>\n",
       "    </tr>\n",
       "  </tbody>\n",
       "</table>\n",
       "</div>"
      ],
      "text/plain": [
       "   Unnamed: 0                                               text  emotion  \\\n",
       "0           0                            i didnt feel humiliated  sadness   \n",
       "1           1  i can go from feeling so hopeless to so damned...  sadness   \n",
       "2           2   im grabbing a minute to post i feel greedy wrong    anger   \n",
       "3           3                               i am feeling grouchy    anger   \n",
       "4           4  ive been feeling a little burdened lately wasn...  sadness   \n",
       "\n",
       "                                   preprocessed_text classified_emotion  \n",
       "0                                    feel humiliated               fear  \n",
       "1  go feeling hopeless damned hopeful around some...               fear  \n",
       "2             grabbing minute post feel greedy wrong            disgust  \n",
       "3                                    feeling grouchy               fear  \n",
       "4                feeling little burdened lately sure               fear  "
      ]
     },
     "execution_count": 4,
     "metadata": {},
     "output_type": "execute_result"
    }
   ],
   "source": [
    "df.head()"
   ]
  },
  {
   "cell_type": "code",
   "execution_count": 5,
   "id": "8822e197",
   "metadata": {},
   "outputs": [],
   "source": [
    "from sklearn.metrics import classification_report\n",
    "\n"
   ]
  },
  {
   "cell_type": "code",
   "execution_count": 6,
   "id": "068df267",
   "metadata": {},
   "outputs": [
    {
     "name": "stdout",
     "output_type": "stream",
     "text": [
      "              precision    recall  f1-score   support\n",
      "\n",
      "     sadness       0.46      0.30      0.36      3776\n",
      "       anger       0.15      0.11      0.12      1055\n",
      "    surprise       0.21      0.69      0.32      3436\n",
      "        fear       0.64      0.37      0.46      7813\n",
      "         joy       0.57      0.23      0.32      6865\n",
      "     disgust       0.05      0.13      0.07       709\n",
      "\n",
      "    accuracy                           0.34     23654\n",
      "   macro avg       0.35      0.30      0.28     23654\n",
      "weighted avg       0.49      0.34      0.36     23654\n",
      "\n"
     ]
    }
   ],
   "source": [
    "# Step 3: Generate classification report for different classes of emotion\n",
    "report = classification_report(df['emotion'], df['classified_emotion'], target_names=df['emotion'].unique())\n",
    "\n",
    "print(report)"
   ]
  },
  {
   "cell_type": "code",
   "execution_count": 7,
   "id": "44320c72",
   "metadata": {},
   "outputs": [
    {
     "name": "stdout",
     "output_type": "stream",
     "text": [
      "    Emotion   Accuracy\n",
      "0   sadness  22.534596\n",
      "1     anger  29.819915\n",
      "2  surprise  12.834979\n",
      "3      fear  68.888242\n",
      "4       joy  36.567260\n",
      "5   disgust  10.521327\n"
     ]
    }
   ],
   "source": [
    "import pandas as pd\n",
    "from collections import defaultdict\n",
    "\n",
    "# Assuming df is your DataFrame and it has columns named 'text', 'emotion', and 'classified_emotion'\n",
    "\n",
    "# Initialize a dictionary to hold count of correct predictions and total count for each class\n",
    "class_correct_counts = defaultdict(int)\n",
    "class_total_counts = defaultdict(int)\n",
    "\n",
    "# Iterate over the DataFrame to update counts\n",
    "for _, row in df.iterrows():\n",
    "    actual_emotion = row['emotion']\n",
    "    predicted_emotion = row['classified_emotion']\n",
    "    class_total_counts[actual_emotion] += 1\n",
    "    if actual_emotion == predicted_emotion:\n",
    "        class_correct_counts[actual_emotion] += 1\n",
    "\n",
    "# Calculate and print accuracy for each class\n",
    "class_accuracies = {emotion: (class_correct_counts[emotion] / class_total_counts[emotion] * 100) \n",
    "                    for emotion in class_total_counts}\n",
    "class_accuracies_df = pd.DataFrame(list(class_accuracies.items()), columns=['Emotion', 'Accuracy'])\n",
    "\n",
    "print(class_accuracies_df)\n"
   ]
  },
  {
   "cell_type": "code",
   "execution_count": null,
   "id": "9ed29f40",
   "metadata": {},
   "outputs": [],
   "source": []
  }
 ],
 "metadata": {
  "kernelspec": {
   "display_name": "Python 3 (ipykernel)",
   "language": "python",
   "name": "python3"
  },
  "language_info": {
   "codemirror_mode": {
    "name": "ipython",
    "version": 3
   },
   "file_extension": ".py",
   "mimetype": "text/x-python",
   "name": "python",
   "nbconvert_exporter": "python",
   "pygments_lexer": "ipython3",
   "version": "3.9.18"
  }
 },
 "nbformat": 4,
 "nbformat_minor": 5
}
